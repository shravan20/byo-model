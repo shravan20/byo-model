{
  "nbformat": 4,
  "nbformat_minor": 0,
  "metadata": {
    "colab": {
      "provenance": [],
      "toc_visible": true,
      "authorship_tag": "ABX9TyPSG2MsG27Dg7o0Z8IFvK70",
      "include_colab_link": true
    },
    "kernelspec": {
      "name": "python3",
      "display_name": "Python 3"
    },
    "language_info": {
      "name": "python"
    }
  },
  "cells": [
    {
      "cell_type": "markdown",
      "metadata": {
        "id": "view-in-github",
        "colab_type": "text"
      },
      "source": [
        "<a href=\"https://colab.research.google.com/github/shravan20/byo-model/blob/main/image_classification.ipynb\" target=\"_parent\"><img src=\"https://colab.research.google.com/assets/colab-badge.svg\" alt=\"Open In Colab\"/></a>"
      ]
    },
    {
      "cell_type": "code",
      "execution_count": null,
      "metadata": {
        "id": "gAW3wkGI0tEk"
      },
      "outputs": [],
      "source": [
        "from tensorflow.keras.preprocessing.image import ImageDataGenerator, load_img, img_to_array, array_to_img\n",
        "from tensorflow.keras.models import Model, load_model\n",
        "from tensorflow.keras.layers import Flatten, Conv2D, Conv2DTranspose, LeakyReLU, BatchNormalization, Input, Dense, Reshape, Activation\n",
        "from tensorflow.keras.optimizers import Adam\n",
        "from tensorflow.keras.callbacks import ModelCheckpoint\n",
        "import tensorflow.keras.backend as K\n",
        "import numpy as np\n",
        "import matplotlib.pyplot as plt\n",
        "from tqdm import tqdm_notebook as tqdm\n",
        "import pickle\n",
        "import pandas as pd\n",
        "\n",
        "# Load images\n",
        "img_height = 256\n",
        "img_width = 256\n",
        "channels = 3\n",
        "batch_size = 16\n",
        "\n",
        "train_datagen = ImageDataGenerator(rescale=1./255,\n",
        "                                   validation_split=0.2)"
      ]
    },
    {
      "cell_type": "code",
      "source": [
        "training_set = train_datagen.flow_from_directory(\n",
        "    './flipkart/images',\n",
        "     target_size = (img_height, img_width),\n",
        "     batch_size = batch_size,\n",
        "     class_mode = 'input',\n",
        "     subset = 'training',\n",
        "     shuffle=True)\n",
        "\n",
        "validation_set = train_datagen.flow_from_directory(\n",
        "    './flipkart/images',\n",
        "     target_size = (img_height, img_width),\n",
        "     batch_size = batch_size,\n",
        "     class_mode = 'input',\n",
        "     subset = 'validation',\n",
        "     shuffle=False)"
      ],
      "metadata": {
        "id": "82-AMHk-13uj"
      },
      "execution_count": null,
      "outputs": []
    },
    {
      "cell_type": "code",
      "source": [],
      "metadata": {
        "id": "s8YMPQCt2EWN"
      },
      "execution_count": null,
      "outputs": []
    },
    {
      "cell_type": "code",
      "source": [],
      "metadata": {
        "id": "dFrFLXKM2E2e"
      },
      "execution_count": null,
      "outputs": []
    }
  ]
}